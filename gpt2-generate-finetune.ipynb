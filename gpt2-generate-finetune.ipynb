{
 "cells": [
  {
   "cell_type": "markdown",
   "metadata": {
    "id": "H7LoMj4GA4n_"
   },
   "source": [
    "#  GPT-2 Generation and Fine-Tuning\n",
    "\n",
    "This notebook explores GPT-2 (Generative Pretrained Transformer-2) from OpenAI. Read more about it [here](https://openai.com/blog/better-language-models/).\n",
    "\n",
    "Activities include:\n",
    "\n",
    "0. Setup\n",
    "1. Generate samples from pre-trained gpt-3 model\n",
    "2. Fine-tune gpt-2 on text of your choosing. \n",
    "\n",
    "Adapted by Robert Twomey (rtwomey@unl.edu) for Machine Learning for the Arts SP22 from this [google colab](https://colab.research.google.com/drive/1VLG8e7YSEwypxU-noRNhsv5dW4NfTGce) by [Max Woolf](http://minimaxir.com). See his repo [gpt-2-simple](https://github.com/minimaxir/gpt-2-simple)."
   ]
  },
  {
   "cell_type": "markdown",
   "metadata": {},
   "source": [
    "# 0. Setup"
   ]
  },
  {
   "cell_type": "markdown",
   "metadata": {},
   "source": [
    "Run once to install the library"
   ]
  },
  {
   "cell_type": "code",
   "execution_count": 1,
   "metadata": {},
   "outputs": [
    {
     "name": "stdout",
     "output_type": "stream",
     "text": [
      "Note: you may need to restart the kernel to use updated packages.\n"
     ]
    }
   ],
   "source": [
    "%pip install -q gpt-2-simple"
   ]
  },
  {
   "cell_type": "markdown",
   "metadata": {},
   "source": [
    "restart the kernel and run the imports"
   ]
  },
  {
   "cell_type": "code",
   "execution_count": 2,
   "metadata": {
    "id": "KBkpRgBCBS2_"
   },
   "outputs": [],
   "source": [
    "import gpt_2_simple as gpt2\n",
    "import tensorflow as tf\n",
    "from datetime import datetime"
   ]
  },
  {
   "cell_type": "markdown",
   "metadata": {
    "id": "Bj2IJLHP3KwE"
   },
   "source": [
    "## GPU\n",
    "\n",
    "Colaboratory uses either a Nvidia T4 GPU or an Nvidia K80 GPU. The T4 is slightly faster than the old K80 for training GPT-2, and has more memory allowing you to train the larger GPT-2 models and generate more text.\n",
    "\n",
    "You can verify which GPU is active by running the cell below."
   ]
  },
  {
   "cell_type": "code",
   "execution_count": 3,
   "metadata": {
    "colab": {
     "base_uri": "https://localhost:8080/"
    },
    "id": "sUmTooTW3osf",
    "outputId": "c9fcfa4f-277d-4b3e-8974-373066dc157b"
   },
   "outputs": [
    {
     "name": "stdout",
     "output_type": "stream",
     "text": [
      "Thu Feb 17 11:47:41 2022       \n",
      "+-----------------------------------------------------------------------------+\n",
      "| NVIDIA-SMI 470.63.01    Driver Version: 470.63.01    CUDA Version: 11.4     |\n",
      "|-------------------------------+----------------------+----------------------+\n",
      "| GPU  Name        Persistence-M| Bus-Id        Disp.A | Volatile Uncorr. ECC |\n",
      "| Fan  Temp  Perf  Pwr:Usage/Cap|         Memory-Usage | GPU-Util  Compute M. |\n",
      "|                               |                      |               MIG M. |\n",
      "|===============================+======================+======================|\n",
      "|   0  Tesla V100-PCIE...  On   | 00000000:D8:00.0 Off |                    0 |\n",
      "| N/A   37C    P0    27W / 250W |      0MiB / 32510MiB |      0%      Default |\n",
      "|                               |                      |                  N/A |\n",
      "+-------------------------------+----------------------+----------------------+\n",
      "                                                                               \n",
      "+-----------------------------------------------------------------------------+\n",
      "| Processes:                                                                  |\n",
      "|  GPU   GI   CI        PID   Type   Process name                  GPU Memory |\n",
      "|        ID   ID                                                   Usage      |\n",
      "|=============================================================================|\n",
      "|  No running processes found                                                 |\n",
      "+-----------------------------------------------------------------------------+\n"
     ]
    }
   ],
   "source": [
    "!nvidia-smi"
   ]
  },
  {
   "cell_type": "markdown",
   "metadata": {},
   "source": [
    "note the memory usage (0MiB / 32510MiB) for the Tesla V100.\n",
    "You can re-rerun the above cell to see what memory your code/models are using during training."
   ]
  },
  {
   "cell_type": "markdown",
   "metadata": {
    "id": "0wXB05bPDYxS"
   },
   "source": [
    "## Downloading GPT-2\n",
    "\n",
    "If you're retraining a model on new text, you need to download the GPT-2 model first. \n",
    "\n",
    "There are three released sizes of GPT-2:\n",
    "\n",
    "* `124M` (default): the \"small\" model, 500MB on disk.\n",
    "* `355M`: the \"medium\" model, 1.5GB on disk.\n",
    "* `774M`: the \"large\" model, cannot currently be finetuned with Colaboratory but can be used to generate text from the pretrained model (see later in Notebook)\n",
    "* `1558M`: the \"extra large\", true model. Will not work if a K80/P4 GPU is attached to the notebook. (like `774M`, it cannot be finetuned).\n",
    "\n",
    "Larger models have more knowledge, but take longer to finetune and longer to generate text. You can specify which base model to use by changing `model_name` in the cells below.\n",
    "\n",
    "The next cell downloads it from Google Cloud Storage and saves it in the the current working directory at `/models/<model_name>`."
   ]
  },
  {
   "cell_type": "code",
   "execution_count": 4,
   "metadata": {
    "colab": {
     "base_uri": "https://localhost:8080/"
    },
    "id": "P8wSlgXoDPCR",
    "outputId": "10fc0d7c-d18f-4e11-a2af-bfade8b537eb"
   },
   "outputs": [],
   "source": [
    "model_name = \"355M\" # largest model we can fine-tune"
   ]
  },
  {
   "cell_type": "markdown",
   "metadata": {},
   "source": [
    "run once to download the file"
   ]
  },
  {
   "cell_type": "code",
   "execution_count": 5,
   "metadata": {},
   "outputs": [
    {
     "name": "stderr",
     "output_type": "stream",
     "text": [
      "Fetching checkpoint: 1.05Mit [00:00, 762Mit/s]                                                      \n",
      "Fetching encoder.json: 1.05Mit [00:00, 4.24Mit/s]                                                   \n",
      "Fetching hparams.json: 1.05Mit [00:00, 1.25Git/s]                                                   \n",
      "Fetching model.ckpt.data-00000-of-00001: 1.42Git [00:24, 58.8Mit/s]                                 \n",
      "Fetching model.ckpt.index: 1.05Mit [00:00, 1.14Git/s]                                               \n",
      "Fetching model.ckpt.meta: 1.05Mit [00:00, 4.80Mit/s]                                                \n",
      "Fetching vocab.bpe: 1.05Mit [00:00, 5.53Mit/s]                                                      \n"
     ]
    }
   ],
   "source": [
    "gpt2.download_gpt2(model_name=model_name)"
   ]
  },
  {
   "cell_type": "markdown",
   "metadata": {
    "id": "QQAN3M6RT7Kj"
   },
   "source": [
    "# 1. Generate Text From The Pretrained Model\n",
    "\n",
    "If you want to generate text from the pretrained model pass `model_name` to `gpt2.load_gpt2()` and `gpt2.generate()`. (This is currently the only way to generate text from the 774M or 1558M models with this notebook.)"
   ]
  },
  {
   "cell_type": "code",
   "execution_count": 6,
   "metadata": {
    "colab": {
     "base_uri": "https://localhost:8080/",
     "height": 124
    },
    "id": "BAe4NpKNUj2C",
    "outputId": "b09bfe1d-2ff8-4b8a-fffb-273d28d5d4ae"
   },
   "outputs": [
    {
     "name": "stderr",
     "output_type": "stream",
     "text": [
      "2022-02-17 11:48:07.892141: I tensorflow/core/platform/cpu_feature_guard.cc:142] This TensorFlow binary is optimized with oneAPI Deep Neural Network Library (oneDNN) to use the following CPU instructions in performance-critical operations:  SSE4.1 SSE4.2 AVX AVX2 AVX512F FMA\n",
      "To enable them in other operations, rebuild TensorFlow with the appropriate compiler flags.\n",
      "2022-02-17 11:48:09.050419: I tensorflow/core/common_runtime/gpu/gpu_device.cc:1510] Created device /job:localhost/replica:0/task:0/device:GPU:0 with 30979 MB memory:  -> device: 0, name: Tesla V100-PCIE-32GB, pci bus id: 0000:d8:00.0, compute capability: 7.0\n"
     ]
    },
    {
     "name": "stdout",
     "output_type": "stream",
     "text": [
      "Loading pretrained model models/355M/model.ckpt\n",
      "INFO:tensorflow:Restoring parameters from models/355M/model.ckpt\n"
     ]
    }
   ],
   "source": [
    "sess = gpt2.start_tf_sess()\n",
    "\n",
    "gpt2.load_gpt2(sess, model_name=model_name)"
   ]
  },
  {
   "cell_type": "markdown",
   "metadata": {},
   "source": [
    "## Sample from the model\n",
    "The follow cell samples from gpt-2, using the provided prefix (seed) and other parameters. It starts the TF session and generates the samples.\n",
    "\n",
    "Try changing the parameters below to change the output: \n",
    "- `prefix` is the prompt. This will be the starting string/seed for your generation. Use your own text. \n",
    "- `temperature` sets the variability/randomness of the output. Range 0.0-1.0\n",
    "- `length` sets the lenght of output (in tokens). max is 1024.\n"
   ]
  },
  {
   "cell_type": "code",
   "execution_count": 7,
   "metadata": {
    "colab": {
     "base_uri": "https://localhost:8080/",
     "height": 797
    },
    "id": "-xInIZKaU104",
    "outputId": "56348e28-7d08-45e3-c859-f26c0efd066d"
   },
   "outputs": [
    {
     "name": "stdout",
     "output_type": "stream",
     "text": [
      "Blood --------------------------- --------------------------------------------------------------------------- O------------------------------------------------------------------------------O | BOSS - The Beast | O------------------------------------------------------------------------------O | Level: 21 | HP: 4030 | Steal: --- | Morph: --- | | Location: Port Town, Port Town District, Port Town |\n",
      "====================\n",
      "Blood iced tea for breakfast. It's not as healthy as I'd like, but it's delicious. I'm sure you'll find it to be as tasty as the oatmeal I made for lunch. It's a great way to warm up, and\n",
      "====================\n",
      "Blood urchins can be used as a quick and cheap way to reduce your carbon footprint. But they are also highly toxic and, if ingested, can cause liver damage.\n",
      "\n",
      "The best way to eat an urchin is to eat it raw.\n",
      "====================\n",
      "Blood  is one of the most important players in the game.  A combo of Raging Tempest and Spell Pierce allows you to kill all of your opponents creatures and block their spells.  If you have enough mana to cast a card like Un\n",
      "====================\n",
      "Blood 」\n",
      "\n",
      "\"D-don't think that I won't understand what you mean. I won't be able to understand anything that you say!\"\n",
      "\n",
      "\"But I will make sure to understand it. Even if I am an idiot, I\n",
      "====================\n"
     ]
    }
   ],
   "source": [
    "gpt2.generate(sess,\n",
    "              model_name=model_name,\n",
    "              prefix=\"Blood \",\n",
    "              length=50,\n",
    "              temperature=0.7,\n",
    "              top_p=0.9,\n",
    "              nsamples=5,\n",
    "              batch_size=5\n",
    "              )"
   ]
  },
  {
   "cell_type": "markdown",
   "metadata": {},
   "source": [
    "## Activities\n",
    "- try varying the prefix. \n",
    "  - what length of prefix works best with the given model? \n",
    "  - how does the choice of prefix change the format/form of the output.\n",
    "- try varying the temperature.\n",
    "- try loading the different sized models (124M, 355M, 774M, 1558M) and generate text without changing the other parameters. \n",
    "  - Do you notice any qualitative differences in the output? "
   ]
  },
  {
   "cell_type": "markdown",
   "metadata": {},
   "source": [
    "# 2. Fine-Tuning GPT-2"
   ]
  },
  {
   "cell_type": "markdown",
   "metadata": {},
   "source": [
    "If you have already generated with gpt2, you need to reset the tf graph and gpt2 session. Otherwise, we create a new one:"
   ]
  },
  {
   "cell_type": "code",
   "execution_count": 8,
   "metadata": {
    "colab": {
     "base_uri": "https://localhost:8080/"
    },
    "id": "aeXshJM-Cuaf",
    "outputId": "a3c75caa-917b-4818-ca2d-d78610d8b6f2"
   },
   "outputs": [
    {
     "name": "stderr",
     "output_type": "stream",
     "text": [
      "2022-02-17 11:48:20.526544: I tensorflow/core/common_runtime/gpu/gpu_device.cc:1510] Created device /job:localhost/replica:0/task:0/device:GPU:0 with 30979 MB memory:  -> device: 0, name: Tesla V100-PCIE-32GB, pci bus id: 0000:d8:00.0, compute capability: 7.0\n"
     ]
    }
   ],
   "source": [
    "#model_name = \"355M\" # same model as selected above\n",
    "\n",
    "tf.compat.v1.reset_default_graph()\n",
    "\n",
    "# check if sess exists (e.g. if we ran section 1 above)\n",
    "var_exists = 'sess' in locals() or 'sess' in globals()\n",
    "\n",
    "if not var_exists:\n",
    "    sess = gpt2.start_tf_sess()\n",
    "else:\n",
    "    sess = gpt2.reset_session(sess)"
   ]
  },
  {
   "cell_type": "markdown",
   "metadata": {
    "id": "HeeSKtNWUedE"
   },
   "source": [
    "## Upload a text file\n",
    "For this, we will use a text file you provide to finetune (continue training) GPT-2. You can use any plain text (.txt) file. \n",
    "\n",
    "Simply drag and dropy our text file into the file browser at left. \n",
    "\n",
    "Once you have uploaded your file, update the file name in the cell below, then run it."
   ]
  },
  {
   "cell_type": "code",
   "execution_count": 9,
   "metadata": {
    "id": "6OFnPCLADfll"
   },
   "outputs": [],
   "source": [
    "file_name = \"Museum_Text.txt\" # your file here"
   ]
  },
  {
   "cell_type": "markdown",
   "metadata": {
    "id": "LdpZQXknFNY3"
   },
   "source": [
    "## Run the finetuning\n",
    "\n",
    "The next cell will start the actual finetuning of GPT-2. It creates a persistent TensorFlow session which stores the training config, then runs the training for the specified number of `steps`. (to have the finetuning run indefinitely, set `steps = -1`)\n",
    "\n",
    "The model checkpoints will be saved in `/checkpoint/run1` by default. The checkpoints are saved every `save_every` steps (can be changed) and when the cell is stopped.\n",
    "\n",
    "The training might time out after 4ish hours; make sure you end training and save the results so you don't lose them. If your input text is smaller, training might proceed more quickly.\n",
    "\n",
    "Other optional-but-helpful parameters for `gpt2.finetune`:\n",
    "\n",
    "*  **`restore_from`**: Set to `fresh` to start training from the base GPT-2, or set to `latest` to restart training from an existing checkpoint.\n",
    "* **`sample_every`**: Number of steps to print example output\n",
    "* **`print_every`**: Number of steps to print training progress.\n",
    "* **`learning_rate`**:  Learning rate for the training. (default `1e-4`, can lower to `1e-5` if you have <1MB input data)\n",
    "*  **`run_name`**: subfolder within `checkpoint` to save the model. This is useful if you want to work with multiple models (will also need to specify  `run_name` when loading the model)\n",
    "* **`overwrite`**: Set to `True` if you want to continue finetuning an existing model (w/ `restore_from='latest'`) without creating duplicate copies. "
   ]
  },
  {
   "cell_type": "code",
   "execution_count": 10,
   "metadata": {},
   "outputs": [
    {
     "name": "stdout",
     "output_type": "stream",
     "text": [
      "For larger models, the recommended finetune() parameters are:\n",
      "\tuse_memory_saving_gradients = True\n",
      "\tonly_train_transformer_layers = True\n",
      "\taccumulate_gradients = 1\n",
      "\n"
     ]
    },
    {
     "name": "stderr",
     "output_type": "stream",
     "text": [
      "2022-02-17 11:48:25.700937: I tensorflow/core/common_runtime/gpu/gpu_device.cc:1510] Created device /job:localhost/replica:0/task:0/device:GPU:0 with 30979 MB memory:  -> device: 0, name: Tesla V100-PCIE-32GB, pci bus id: 0000:d8:00.0, compute capability: 7.0\n"
     ]
    },
    {
     "name": "stdout",
     "output_type": "stream",
     "text": [
      "Loading checkpoint models/355M/model.ckpt\n",
      "INFO:tensorflow:Restoring parameters from models/355M/model.ckpt\n",
      "Loading dataset...\n"
     ]
    },
    {
     "name": "stderr",
     "output_type": "stream",
     "text": [
      "100%|██████████| 1/1 [00:00<00:00, 524.42it/s]"
     ]
    },
    {
     "name": "stdout",
     "output_type": "stream",
     "text": [
      "dataset has 8017 tokens\n",
      "Training...\n"
     ]
    },
    {
     "name": "stderr",
     "output_type": "stream",
     "text": [
      "\n"
     ]
    },
    {
     "name": "stdout",
     "output_type": "stream",
     "text": [
      "[10 | 27.65] loss=3.34 avg=3.34\n",
      "[20 | 47.49] loss=3.08 avg=3.21\n",
      "[30 | 67.24] loss=2.72 avg=3.05\n",
      "[40 | 87.10] loss=2.62 avg=2.94\n",
      "[50 | 106.93] loss=2.28 avg=2.80\n",
      "[60 | 126.75] loss=2.00 avg=2.67\n",
      "[70 | 146.66] loss=1.69 avg=2.52\n",
      "[80 | 166.45] loss=1.30 avg=2.36\n",
      "[90 | 186.27] loss=1.19 avg=2.23\n",
      "[100 | 206.09] loss=0.54 avg=2.05\n",
      "======== SAMPLE 1 ========\n",
      "in/image/w/my-babysitter.jpg https://medium.com/@evanbak/the-face-of-evans-baby-ship-14f4f2b76e25 6 months ago\n",
      "\n",
      "This video by our community artist Evan Bak of his project shipbuilding with BabiesDrive was a very encouraging glimpse of the work… https://twitter.com/i/web/status/1002075251955898825 6 months ago\n",
      "\n",
      "If you love the idea of having your ideas put to the test, this is the video for you. @tokamatsufuchi is responsible o… https://twitter.com/i/web/status/1001923854828182872 6 months ago\n",
      "\n",
      "This is a video by our team leader @evan_bartle that shows us what a prototype is made of... The end result is a tiny prototype of some thi… https://twitter.com/i/web/status/10101256749193917120 6 months ago\n",
      "\n",
      "Hey guys, thanks for watching the video from our team leader, Evan Bartle here with another video, this time of us building the cakio… https://twitter.com/i/web/status/9907559695945381541 6 months ago\n",
      "\n",
      "I received a lot of great comments about our first video \"Building, Building, Building\" that shows us how we built, and how we… https://twitter.\n",
      "\n",
      "//@NEO_io and others were kind enough to do a great job revamping that video in regards to its content and the\n",
      "website it was posted to! Check it out below... https://medium.com/@tokamatsufuchi/building-building-building-building-9c7ab3fe8f5a6 7 months ago\n",
      "\n",
      "We are very proud to present our newest video, \"Exploding the Bubble\" released today and a part of our mission here.i… https://twitter.com/i/web/status/9903828763418051441 7 months ago\n",
      "\n",
      "Watch as we reveal our next video, \"I'm Your Mama\", a video exploring the possibilities of connecting with one's roots through the thele… https://twitter.com/i/web/2015012806125712 7 months ago\n",
      "\n",
      "This week, we are releasing the final version of our video #Explosion, and as always, we are extremely happy with the constructive feedback we were receiving.… https://twitter.com/i/web/status/9896625889817096056 7 months ago\n",
      "\n",
      "If you want to learn more about the mission and vision of @tokamatsufuchi & her company, read her article in Forbes about how the team is creating a new culture of creativity and… https://twitter.com/i/web/status/9799501895718579840 7 months ago\n",
      "\n",
      "Watch a beautiful short documentary about our team and their journey starting out in the car industry #Cars4Tech! https://youtu.be/bq3fjr4v0y0m 7 months ago\n",
      "\n",
      "We are proud to announce our partnership with @thesmallcar! This is an ideal location for startups looking to build a presence! Check out a video about us in action… https://twitter.com/i/web/status/9799883576252554368 7 months ago\n",
      "\n",
      "It's a beautiful fall day at the intersection of Telegraph and Wabash in Milwaukee, the perfect place to create a simple web and mobile application. We found… https://twitter.com/i/web/status/9976779389816251876 7 months ago\n",
      "\n",
      "After a long day at work, it's really relaxing outside with the trees and the refreshing breeze. So we decided to create a simple weather app using our Node.js… https://twitter.com/i/web/status/9994568981857186544 7 months ago\n",
      "\n",
      "The next update will focus on improving the user experience and creating a more mobile compatible app for our mobile devices. With the advent of new dusc… https://twitter.com/i/web/status/00995888010626591232 7 months ago\n",
      "\n",
      "The updates below pertain to the user experience and are not related to the project in progress. @tokamatsufuchi has started a new chapter in her creative… https://twitter.com/i/web/status/00981568983818985784 7 months ago\n",
      "\n",
      "This is an exclusive video that shows off our prototype app/site that will soon be available for download to all our users and the broader t... https://twitter.com/i/web/status/009192525761898\n",
      "\n",
      "[110 | 241.60] loss=0.46 avg=1.90\n",
      "[120 | 261.44] loss=0.29 avg=1.76\n",
      "[130 | 281.25] loss=0.23 avg=1.63\n",
      "[140 | 301.06] loss=0.21 avg=1.52\n",
      "[150 | 320.87] loss=0.24 avg=1.43\n",
      "[160 | 340.68] loss=0.12 avg=1.34\n",
      "[170 | 360.49] loss=0.12 avg=1.27\n",
      "[180 | 380.36] loss=0.11 avg=1.20\n",
      "[190 | 400.18] loss=0.09 avg=1.13\n",
      "[200 | 420.00] loss=0.09 avg=1.08\n",
      "Saving checkpoint/run1/model-200\n"
     ]
    }
   ],
   "source": [
    "gpt2.finetune(sess,\n",
    "              dataset=file_name,\n",
    "              model_name=model_name,\n",
    "              steps=200,\n",
    "              restore_from='fresh', # change to 'latest' to resume\n",
    "              run_name='run1',\n",
    "              print_every=10,\n",
    "              learning_rate=1e-5,\n",
    "              sample_every=100,\n",
    "              save_every=200\n",
    "              )"
   ]
  },
  {
   "cell_type": "markdown",
   "metadata": {
    "id": "IXSuTNERaw6K"
   },
   "source": [
    "## Notes on finetuning\n",
    "\n",
    "Keep an eye on the loss, and how quickly it is dropping. A too-rapid drop in loss could be a sign of overfitting, and a learning rate (lr) that is too high. \n",
    "\n",
    "After the model is trained, you can download the checkpoint folder to save your work. Training checkpoints are saved to `checkpoint/run1` (or whatever you chose for the run name above).\n",
    "\n",
    "You can compress it to a rar file and download that. Ask the instructor how.\n",
    "\n",
    "You're done! Feel free to go to the Generate Text From The Trained Model section to generate text based on your retrained model."
   ]
  },
  {
   "cell_type": "markdown",
   "metadata": {},
   "source": [
    "## Finetune some more"
   ]
  },
  {
   "cell_type": "markdown",
   "metadata": {},
   "source": [
    "If you have already generated with gpt2, you need to reset the tf graph and gpt2 session. Otherwise, we create a new one:"
   ]
  },
  {
   "cell_type": "code",
   "execution_count": null,
   "metadata": {
    "colab": {
     "base_uri": "https://localhost:8080/"
    },
    "id": "aeXshJM-Cuaf",
    "outputId": "a3c75caa-917b-4818-ca2d-d78610d8b6f2"
   },
   "outputs": [],
   "source": [
    "#model_name = \"355M\" # same model as selected above\n",
    "\n",
    "tf.compat.v1.reset_default_graph()\n",
    "\n",
    "# check if sess exists (e.g. if we ran section 1 above)\n",
    "var_exists = 'sess' in locals() or 'sess' in globals()\n",
    "\n",
    "if not var_exists:\n",
    "    sess = gpt2.start_tf_sess()\n",
    "else:\n",
    "    sess = gpt2.reset_session(sess)"
   ]
  },
  {
   "cell_type": "markdown",
   "metadata": {},
   "source": [
    "To fine-tune some more, run the following. Be sure to increase the number of steps (if it was `500` before, change to `1000` to train for 500 more. the number is cumulative)."
   ]
  },
  {
   "cell_type": "code",
   "execution_count": null,
   "metadata": {},
   "outputs": [],
   "source": [
    "gpt2.finetune(sess,\n",
    "              dataset=file_name,\n",
    "              model_name=model_name,\n",
    "              steps=400,\n",
    "              restore_from='latest', # change to 'latest' to resume\n",
    "              run_name='run1',\n",
    "              print_every=10,\n",
    "              learning_rate=1e-5,\n",
    "              sample_every=100,\n",
    "              save_every=100\n",
    "              )"
   ]
  },
  {
   "cell_type": "markdown",
   "metadata": {
    "id": "ClJwpF_ACONp"
   },
   "source": [
    "# 3. Generate Text From The Finetuned Model\n",
    "\n",
    "After you've trained the model or loaded a retrained model from checkpoint, you can now generate text. `generate` generates a single text from the loaded model."
   ]
  },
  {
   "cell_type": "code",
   "execution_count": 24,
   "metadata": {
    "colab": {
     "base_uri": "https://localhost:8080/"
    },
    "id": "4RNY6RBI9LmL",
    "outputId": "82574eaa-d39a-4665-b611-e5172848da57"
   },
   "outputs": [
    {
     "name": "stdout",
     "output_type": "stream",
     "text": [
      "Taiwanese photographer Ching-Chih Hung has created a unique and detailed series of portraits of his hometown of Ching, WV. Here, he combines the everyday details of the \n",
      "decor with the gritty reality of the area.\n",
      "\n",
      "\n",
      "\"I am drawn to abandoned places because I know that feeling so well- it's like we've known it all our lives. It's like we've \n",
      "come to know a place so well that we never leave it.\"\n",
      "\n",
      "\n",
      "Ching, located in the Appalachian Mountains of West Virginia, is a hub for coal mining and manufacturing since the 1930s.\n",
      "\n",
      "\n",
      "The abandoned Ching General Store, built in the mid-1940s and abandoned in the 1960s, is one of several Ching-related institutions that have \n",
      "gained in importance over the years. In the 1970s, the site of the Ching Store was the site of a strip club.\n",
      "\n",
      "\n",
      "In the 1960s, the Abandoned Aircraft Factory building in Hanover, Nebraska, would have been a local attraction. Instead, \n",
      "of apartments, the three-story building housed industrial equipment for aircraft assembly. Today, the building's \n",
      "inner courtyard is a gathering space for civic and environmental meetings.\n",
      "\n",
      "\n",
      "\" Ibuprofen is a self-preserving, organic, antimicrobial, disinfectant. While its main active ingredient, propionylisopropynylbutanol, \n",
      "is moderately toxic, the additional ion propionic acid may be harmful to some organisms. Therefore, while \n",
      "pp. in the synthetic form may be suitable in the laboratory, it is not a good fit for normal work in the field.\n",
      "\n",
      "Instead, provide the recommended amounts of both acetaminophen and asafetida.\"\n",
      "\n",
      "\n",
      "\"In a well-managed community, food is not simply a past time; it is a daily condition of being. It \n",
      "is not merely something to be grabbed, thrown, or stirred into. It has to be firmly held in the hand.\"\n",
      "food\n",
      "\n",
      ",-go to next food\n",
      "\n",
      "\n",
      "Food never travels far or returns to the farm where it was growing. Rather,\n",
      "it is brought to the table, whereupon the flavors and textures are further refined. In a \n",
      "land Food enters through the organ, it goes through the gut, filtering out its own impurities.\n",
      "\n",
      "[Referencing the Underground Railroad's] bulky, grainy trunks\n",
      "\n",
      "\n",
      ",food,-go to next food\n",
      "\n",
      "\n",
      "trunks are too short to carry a meal\n",
      "\n",
      ",food,- go to next food\n",
      "\n",
      "\n",
      "Organ meats—beef, lamb, or pork—are the best cuts to choose for a restaurant lunch. However,\n",
      "grilling vegetables such as carrots, onions, and celery is acceptable.\n",
      "\n",
      ",food,- go to next food\n",
      "\n",
      "\n",
      "—\n",
      "\n",
      "If you could change one thing about yourself, what it is and why?\n",
      "\n",
      "I would like to greatly reduce my size. I have a very hard time in the winterowing spaces.\n",
      "I am also very short. It is not surprising that I am hard of hearing.\n",
      "\n",
      "—Norman Sternlicht, eating only food that could be eaten—\n",
      "\n",
      "Otto Piene\n",
      "\n",
      "Generalized starvation is a very real and serious problem in modern society. Over forty million people around the world—more than a billion each day—are denied the nutritional needs of their families, as well as their environment.\n",
      "\n",
      "Piene was one of the first to specifically address the serious food security challenges of the twentieth century. Over the course of two centuries, he extensively studied and copied the personal effects of more than one hundred surviving slaves. These personal diaries, written in Pisces's own unique albino voice, are considered one of the most important contributions to the study of early modern literature.\n",
      "\n",
      "In \"Pisces's\" is of no immediate practical importance, but readers who are fortunate to possess the original are invited tol preserve,of which this inscribed tablet is a part. This fine example of early 17th- and 18th-century art depicts a female figure wearing a full veil over the face and holding a saucy lascivious-looking book in one hand and a vase in the other. Enamored with the thought of being initiated into the mysteries of forbidden love, the brooding author subverts convention by imagining that her unwitting reader may one day fall in love as well.\n",
      "\n",
      "—Yale University Library\n",
      "\n",
      "\"We need to think more holistically about many of the issues facing us today—climate change, inequality, resource depletion—and not just focus on a few issues. To me, that's not how you do it. You connect the dots and that's where you get to the big picture.\"\n",
      "\n",
      "In a world increasingly dependent on increasingly resource-intensive forms of energy, it is hardly surprising that many artists and designers have expanded their field of vision to include\n"
     ]
    }
   ],
   "source": [
    "gpt2.generate(sess, run_name='run1') # no prefix, unconditional generation"
   ]
  },
  {
   "cell_type": "code",
   "execution_count": 25,
   "metadata": {},
   "outputs": [
    {
     "name": "stdout",
     "output_type": "stream",
     "text": [
      "untitled project\" by Benjamin Wallfisch. The painting shows a woman with her hands in the air and her face projected in a distorted smile. The gesture is characteristic of \n",
      "\"vertically compressed perspective,\" as Bentall defines it, and shows the artist's hope that such a perspective \n",
      "will inform his work for longer periods of time.\n",
      "\n",
      "\"Black Skin, Blue Masks\" (1957), from the Munk T.I.H. book Series of Hive Minds\n",
      "In 1957, Dr. F.A. Hayek gave a talk at the Munk School of International Studies in Seattle in which \n",
      "he described a number of theoretical developments that had helped shape his thinking about international affairs in the \n",
      "future. In particular, Hayek introduced a discussion about \"vertically compressed perspective\". In this perspective, \n",
      "a person's visual field is compressed so that only a portion of the viewed object is actually \n",
      "in view. The other half of the visible image is obscured. Instead of\n",
      "seeing a single, prominent object as it appears in the daytime to an observer standing on \n",
      "3o the horizon, for example, the Visible Man 1 sees a group of objects in concert. The objects intermingle to form \n",
      "a complex web of movement, enabling the mind to focus on a single object more easily.\n",
      "The use of vertically compressed perspective in Hayek's description of a style of visual art \n",
      "making has a number important implications for the study of the practice. First, it clearly \n",
      "means what it says about the artists and/or craftspeople who embraced vertically compressed \n",
      "perception that they applied the insight to their own craft. Second, it shows that the \n",
      "idea spread rapidly among artists and artists sought to incorporate it into their practices. \n",
      "In particular, David Mamet's use of the technique can be broadly explained as a response to \n",
      "Hayek's work and Hayek's own experimentation with the formal approach to artmaking. While \n",
      "meeting with Mamet to discuss Mamet's paintings, Hayek had introduced vertically compressed \n",
      "perceptions to Mamet's work for the previous issue of Gallery & Frame. During \n",
      "their subsequent discussion, however, Hayek suggested that the process be extended to the work he \n",
      "was preparing for the magazine. Instead of presenting his work in abstract form, Hayek would \n",
      "insert a vertically extending head or masking tape into the center of a work of art, and the \n",
      "head would permanently anchor the work to the viewer's head. From this initial \n",
      "position, the viewer moved through the workshapes of figures, bowls, and other art \n",
      "form elements, eventually resting when and where the view to the head no longer required the \n",
      "person looking to make a movement.\n",
      "\n",
      "In exploring the use of vertically compressed perspectives in art, Hayek's exhibitionists did not \n",
      "only ignore the formal rules of artmaking—they also contradicted them. They were rejecting \n",
      "the very basis of what they were trying to achieve. They were breaking with the formal norms \n",
      "of artmaking, rejecting what Hayek saw as its centrality as well as the limits of what it \n",
      "could achieve through formal means.\n",
      "\n",
      "In many ways, then, vertically compressed perspectives mark the beginning of a modern movement in art \n",
      "making. They provide a model for future artists who will use the same technical tools and \n",
      "technological innovations that artists are adopting in an attempt to create radically new works of \n",
      "art. As art history scholar William James has observed,\n",
      "\"The vertical perspective 'diet' of professional painters has a great deal to teach us about the \n",
      "importance of close, vertical perspective in all artistic endeavor. It also provides a model for artistic \n",
      "inventors... [T]he direct line from the theor to the practice is direct and direct only downhill...\"\n",
      "—Leonardo Drews\n",
      "\n",
      "In1930's pinup artist and printmaker Leon Drews experimented with many novel techniques, including \n",
      "vertically compressed pigmented oils, that were ultimately incorporated into his works. Here, \n",
      "the viewer's gaze moves between Drews's 1960s creations, such as Here There Be Dragons, \n",
      "and now,1940s Raise the Dead, a commemorative print of Abraham Lincoln's Gettysburg Address with its \n",
      "text written in black marker.\n",
      "\n",
      "\"It is not my aim to paint the Negro in America in terms of brutality, despair, or \n",
      "suicide. On the contrary, I want to bring out the human in him as clearly as I can through \n",
      "my use of red, orange, and yellow. My concern is to bring out the inmost essence of human nature, \n",
      "the inner strength, the noble spirit.\"\n",
      "\n",
      "In the 1940s and 1950s, the-located artists I've mentioned worked in concert to create highly \n",
      "valuable works of art.\n"
     ]
    }
   ],
   "source": [
    "gpt2.generate(sess, run_name='run1', prefix=\"untitled\")"
   ]
  },
  {
   "cell_type": "code",
   "execution_count": null,
   "metadata": {},
   "outputs": [],
   "source": []
  },
  {
   "cell_type": "markdown",
   "metadata": {
    "id": "oF4-PqF0Fl7R"
   },
   "source": [
    "## Notes\n",
    "If you're creating an API based on your model and need to pass the generated text elsewhere, you can do `text = gpt2.generate(sess, return_as_list=True)[0]`\n",
    "\n",
    "You can also pass in a `prefix` to the generate function to force the text to start with a given character sequence and generate text from there (good if you add an indicator when the text starts).\n",
    "\n",
    "You can also generate multiple texts at a time by specifing `nsamples`. Unique to GPT-2, you can pass a `batch_size` to generate multiple samples in parallel, giving a massive speedup (in Colaboratory, set a maximum of 20 for `batch_size`).\n",
    "\n",
    "Other optional-but-helpful parameters for `gpt2.generate` and friends:\n",
    "\n",
    "*  **`length`**: Number of tokens to generate (default 1023, the maximum)\n",
    "* **`temperature`**: The higher the temperature, the crazier the text (default 0.7, recommended to keep between 0.7 and 1.0)\n",
    "* **`top_k`**: Limits the generated guesses to the top *k* guesses (default 0 which disables the behavior; if the generated output is super crazy, you may want to set `top_k=40`)\n",
    "* **`top_p`**: Nucleus sampling: limits the generated guesses to a cumulative probability. (gets good results on a dataset with `top_p=0.9`)\n",
    "* **`truncate`**: Truncates the input text until a given sequence, excluding that sequence (e.g. if `truncate='<|endoftext|>'`, the returned text will include everything before the first `<|endoftext|>`). It may be useful to combine this with a smaller `length` if the input texts are short.\n",
    "*  **`include_prefix`**: If using `truncate` and `include_prefix=False`, the specified `prefix` will not be included in the returned text."
   ]
  },
  {
   "cell_type": "code",
   "execution_count": null,
   "metadata": {
    "colab": {
     "base_uri": "https://localhost:8080/"
    },
    "id": "8DKMc0fiej4N",
    "outputId": "490a4648-d973-4675-cf9a-7a48c16fd736"
   },
   "outputs": [],
   "source": [
    "gpt2.generate(sess,\n",
    "              length=50,\n",
    "              temperature=0.7,\n",
    "              prefix=\"LORD\",\n",
    "              nsamples=5,\n",
    "              batch_size=5\n",
    "              )"
   ]
  },
  {
   "cell_type": "markdown",
   "metadata": {
    "id": "zjjEN2Tafhl2"
   },
   "source": [
    "For bulk generation, you can generate a large amount of text to a file and sort out the samples locally on your computer. The next cell will generate a generated text file with a unique timestamp.\n",
    "\n",
    "You can rerun the cells as many times as you want for even more generated texts!"
   ]
  },
  {
   "cell_type": "code",
   "execution_count": null,
   "metadata": {
    "id": "Fa6p6arifSL0"
   },
   "outputs": [],
   "source": [
    "gen_file = 'gpt2_gentext_{:%Y%m%d_%H%M%S}.txt'.format(datetime.utcnow())\n",
    "\n",
    "gpt2.generate_to_file(sess,\n",
    "                      destination_path=gen_file,\n",
    "                      length=500,\n",
    "                      temperature=0.7,\n",
    "                      nsamples=100,\n",
    "                      batch_size=20\n",
    "                      )"
   ]
  },
  {
   "cell_type": "markdown",
   "metadata": {
    "id": "0-LRex8lfv1g"
   },
   "source": [
    "Download the file by hand in the browser at left."
   ]
  },
  {
   "cell_type": "markdown",
   "metadata": {},
   "source": [
    "## Load a Trained Model Checkpoint"
   ]
  },
  {
   "cell_type": "markdown",
   "metadata": {
    "id": "RTa6zf3e_9gV"
   },
   "source": [
    "Uploaded your saved checkpoint and unzip it.\n",
    "\n",
    "The next cell will allow you to load the retrained model checkpoint + metadata necessary to generate text.\n",
    "\n",
    "This will reset or start the tensorflow session as necessary."
   ]
  },
  {
   "cell_type": "code",
   "execution_count": null,
   "metadata": {
    "colab": {
     "base_uri": "https://localhost:8080/"
    },
    "id": "-fxL77nvAMAX",
    "outputId": "8938432a-3b86-4102-f32b-362721ecb897"
   },
   "outputs": [],
   "source": [
    "tf.compat.v1.reset_default_graph()\n",
    "\n",
    "if not sess:\n",
    "    sess = gpt2.start_tf_sess()\n",
    "else:\n",
    "    sess = gpt2.reset_session(sess)\n",
    "\n",
    "gpt2.load_gpt2(sess, run_name='run1')"
   ]
  },
  {
   "cell_type": "markdown",
   "metadata": {
    "id": "ig-KVgkCDCKD"
   },
   "source": [
    "# Etcetera\n",
    "\n",
    "If the notebook has errors (e.g. GPU Sync Fail), force-kill the Colaboratory virtual machine and restart it with the command below:"
   ]
  },
  {
   "cell_type": "code",
   "execution_count": null,
   "metadata": {
    "id": "rIHiVP53FnsX"
   },
   "outputs": [],
   "source": [
    "!kill -9 -1"
   ]
  },
  {
   "cell_type": "markdown",
   "metadata": {
    "id": "wmTXWNUygS5E"
   },
   "source": [
    "# License\n",
    "\n",
    "MIT License\n",
    "\n",
    "Copyright (c) 2019 Max Woolf\n",
    "\n",
    "Permission is hereby granted, free of charge, to any person obtaining a copy\n",
    "of this software and associated documentation files (the \"Software\"), to deal\n",
    "in the Software without restriction, including without limitation the rights\n",
    "to use, copy, modify, merge, publish, distribute, sublicense, and/or sell\n",
    "copies of the Software, and to permit persons to whom the Software is\n",
    "furnished to do so, subject to the following conditions:\n",
    "\n",
    "The above copyright notice and this permission notice shall be included in all\n",
    "copies or substantial portions of the Software.\n",
    "\n",
    "THE SOFTWARE IS PROVIDED \"AS IS\", WITHOUT WARRANTY OF ANY KIND, EXPRESS OR\n",
    "IMPLIED, INCLUDING BUT NOT LIMITED TO THE WARRANTIES OF MERCHANTABILITY,\n",
    "FITNESS FOR A PARTICULAR PURPOSE AND NONINFRINGEMENT. IN NO EVENT SHALL THE\n",
    "AUTHORS OR COPYRIGHT HOLDERS BE LIABLE FOR ANY CLAIM, DAMAGES OR OTHER\n",
    "LIABILITY, WHETHER IN AN ACTION OF CONTRACT, TORT OR OTHERWISE, ARISING FROM,\n",
    "OUT OF OR IN CONNECTION WITH THE SOFTWARE OR THE USE OR OTHER DEALINGS IN THE\n",
    "SOFTWARE."
   ]
  },
  {
   "cell_type": "markdown",
   "metadata": {},
   "source": [
    "# Reference\n",
    "- Max's [blog post](https://minimaxir.com/2019/09/howto-gpt2/) for more information how to use this notebook!\n",
    "- Original repo: [gpt-2-simple](https://github.com/minimaxir/gpt-2-simple) by [Max Woolf](http://minimaxir.com). \n",
    "- Original [google colab](https://colab.research.google.com/drive/1VLG8e7YSEwypxU-noRNhsv5dW4NfTGce) from Max."
   ]
  }
 ],
 "metadata": {
  "accelerator": "GPU",
  "colab": {
   "collapsed_sections": [],
   "include_colab_link": true,
   "name": "Train a GPT-2 Text-Generating Model w/ GPU",
   "provenance": []
  },
  "kernelspec": {
   "display_name": "TensorFlow GPU 2.6 (py39)",
   "language": "python",
   "name": "tensorflow-gpu-2.6-py39"
  },
  "language_info": {
   "codemirror_mode": {
    "name": "ipython",
    "version": 3
   },
   "file_extension": ".py",
   "mimetype": "text/x-python",
   "name": "python",
   "nbconvert_exporter": "python",
   "pygments_lexer": "ipython3",
   "version": "3.9.7"
  }
 },
 "nbformat": 4,
 "nbformat_minor": 4
}
